{
 "cells": [
  {
   "cell_type": "code",
   "execution_count": 2,
   "metadata": {},
   "outputs": [],
   "source": [
    "import math\n",
    "def  entropy(positives,negatives):\n",
    "    total = positives + negatives\n",
    "    if positives == 0 or negatives == 0:\n",
    "        entropy = 0\n",
    "    else:\n",
    "        entropy = (-positives/total)*(math.log(positives/total, 2))+(-negatives/total)*(math.log(negatives/total, 2))\n",
    "    print('La entropia es {0: .4f}'.format(entropy))"
   ]
  },
  {
   "cell_type": "code",
   "execution_count": 3,
   "metadata": {},
   "outputs": [
    {
     "name": "stdout",
     "output_type": "stream",
     "text": [
      "La entropia es  0.9403\n"
     ]
    }
   ],
   "source": [
    "entropy(9,5)"
   ]
  },
  {
   "cell_type": "code",
   "execution_count": null,
   "metadata": {},
   "outputs": [],
   "source": []
  }
 ],
 "metadata": {
  "kernelspec": {
   "display_name": "Python 3",
   "language": "python",
   "name": "python3"
  },
  "language_info": {
   "codemirror_mode": {
    "name": "ipython",
    "version": 3
   },
   "file_extension": ".py",
   "mimetype": "text/x-python",
   "name": "python",
   "nbconvert_exporter": "python",
   "pygments_lexer": "ipython3",
   "version": "3.7.6"
  }
 },
 "nbformat": 4,
 "nbformat_minor": 4
}
